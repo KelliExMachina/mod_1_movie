{
 "cells": [
  {
   "cell_type": "markdown",
   "metadata": {},
   "source": [
    "# Mod_1 Project\n",
    " \n",
    "1. At least 3 questions/recommendations good business case?\n",
    "2. New GitHub repository\n",
    "3. README.MD\n",
    "4. Presentation deck, 8 slides for 5 min presentation for non-tech audience with some tech people present.\n",
    "5. Jupiter notebook with technical description for tech people\n",
    "6. Blog post\n",
    "7. Live presentation\n",
    "8. Due Next Friday with a Thursday DR\n",
    "9. Project draft on Wednesday\n",
    "10. At least 4 meaningful visualizations  \n",
    "  \n",
    "* Brainstorm  \n",
    "* Create repo\n",
    "* Bring it down to your machine\n",
    "* Start creating documents\n",
    "* By EOD, have structure\n",
    "* By EO Monday, data cleaned  \n",
    " "
   ]
  },
  {
   "cell_type": "markdown",
   "metadata": {
    "jupyter": {
     "source_hidden": true
    }
   },
   "source": []
  }
 ],
 "metadata": {
  "kernelspec": {
   "display_name": "Python 3",
   "language": "python",
   "name": "python3"
  },
  "language_info": {
   "codemirror_mode": {
    "name": "ipython",
    "version": 3
   },
   "file_extension": ".py",
   "mimetype": "text/x-python",
   "name": "python",
   "nbconvert_exporter": "python",
   "pygments_lexer": "ipython3",
   "version": "3.7.4"
  }
 },
 "nbformat": 4,
 "nbformat_minor": 4
}
