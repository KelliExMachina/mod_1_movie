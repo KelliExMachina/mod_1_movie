{
 "cells": [
  {
   "cell_type": "markdown",
   "metadata": {},
   "source": [
    "# Data Cleaning\n",
    "### Loading the files and removing blank data"
   ]
  },
  {
   "cell_type": "markdown",
   "metadata": {},
   "source": [
    "First we import the required libraries and adjust out display settings to more easily view the datasets."
   ]
  },
  {
   "cell_type": "code",
   "execution_count": 1,
   "metadata": {},
   "outputs": [],
   "source": [
    "import pandas as pd\n",
    "import numpy as np\n",
    "\n",
    "pd.set_option('display.max_columns', 30)\n",
    "pd.set_option('display.max_rows', 50)\n",
    "pd.set_option('display.float_format', lambda x: '%.0f' % x)"
   ]
  },
  {
   "cell_type": "markdown",
   "metadata": {},
   "source": [
    "Read each dataset as a Pandas dataframe."
   ]
  },
  {
   "cell_type": "code",
   "execution_count": 2,
   "metadata": {},
   "outputs": [],
   "source": [
    "df_bom = pd.read_csv('data/bom.movie_gross.csv')\n",
    "\n",
    "df_iname = pd.read_csv('data/imdb.name.basics.csv')\n",
    "df_iakas = pd.read_csv('data/imdb.title.akas.csv')\n",
    "df_ititlebas = pd.read_csv('data/imdb.title.basics.csv')\n",
    "df_ititlecrew = pd.read_csv('data/imdb.title.crew.csv')\n",
    "df_ititlepri = pd.read_csv('data/imdb.title.principals.csv')\n",
    "df_ititlerate = pd.read_csv('data/imdb.title.ratings.csv')\n",
    "\n",
    "df_imovtxt = pd.read_csv('data/rt.movie_info.tsv', delimiter='\\t') # utf-8 is default\n",
    "df_ireviewtxt = pd.read_csv('data/rt.reviews.tsv', sep='\\t',  encoding='ISO-8859-1', low_memory=False)\n",
    "\n",
    "df_rtmov = pd.read_csv('data/tmdb.movies.csv') # utf-8 is default\n",
    "df_rt_budget = pd.read_csv('data/tn.movie_budgets.csv') # utf-8 is default\n",
    "\n",
    "\n",
    "# df_copy = df.copy() # make a copy of the data in the event we clobber\n",
    "\n"
   ]
  },
  {
   "cell_type": "code",
   "execution_count": 3,
   "metadata": {},
   "outputs": [
    {
     "data": {
      "text/html": [
       "<div>\n",
       "<style scoped>\n",
       "    .dataframe tbody tr th:only-of-type {\n",
       "        vertical-align: middle;\n",
       "    }\n",
       "\n",
       "    .dataframe tbody tr th {\n",
       "        vertical-align: top;\n",
       "    }\n",
       "\n",
       "    .dataframe thead th {\n",
       "        text-align: right;\n",
       "    }\n",
       "</style>\n",
       "<table border=\"1\" class=\"dataframe\">\n",
       "  <thead>\n",
       "    <tr style=\"text-align: right;\">\n",
       "      <th></th>\n",
       "      <th>title</th>\n",
       "      <th>studio</th>\n",
       "      <th>domestic_gross</th>\n",
       "      <th>foreign_gross</th>\n",
       "      <th>year</th>\n",
       "    </tr>\n",
       "  </thead>\n",
       "  <tbody>\n",
       "    <tr>\n",
       "      <td>155</td>\n",
       "      <td>Sea Rex 3D: Journey to a Prehistoric World</td>\n",
       "      <td>3D</td>\n",
       "      <td>6100000</td>\n",
       "      <td>9900000</td>\n",
       "      <td>2010</td>\n",
       "    </tr>\n",
       "    <tr>\n",
       "      <td>1457</td>\n",
       "      <td>Red Obsession</td>\n",
       "      <td>A23</td>\n",
       "      <td>13200</td>\n",
       "      <td>NaN</td>\n",
       "      <td>2013</td>\n",
       "    </tr>\n",
       "    <tr>\n",
       "      <td>670</td>\n",
       "      <td>Revenge of the Electric Car</td>\n",
       "      <td>A23</td>\n",
       "      <td>151000</td>\n",
       "      <td>NaN</td>\n",
       "      <td>2011</td>\n",
       "    </tr>\n",
       "    <tr>\n",
       "      <td>1693</td>\n",
       "      <td>Obvious Child</td>\n",
       "      <td>A24</td>\n",
       "      <td>3100000</td>\n",
       "      <td>NaN</td>\n",
       "      <td>2014</td>\n",
       "    </tr>\n",
       "    <tr>\n",
       "      <td>1717</td>\n",
       "      <td>Tusk</td>\n",
       "      <td>A24</td>\n",
       "      <td>1800000</td>\n",
       "      <td>NaN</td>\n",
       "      <td>2014</td>\n",
       "    </tr>\n",
       "    <tr>\n",
       "      <td>...</td>\n",
       "      <td>...</td>\n",
       "      <td>...</td>\n",
       "      <td>...</td>\n",
       "      <td>...</td>\n",
       "      <td>...</td>\n",
       "    </tr>\n",
       "    <tr>\n",
       "      <td>210</td>\n",
       "      <td>Outside the Law (Hors-la-loi)</td>\n",
       "      <td>NaN</td>\n",
       "      <td>96900</td>\n",
       "      <td>3300000</td>\n",
       "      <td>2010</td>\n",
       "    </tr>\n",
       "    <tr>\n",
       "      <td>555</td>\n",
       "      <td>Fireflies in the Garden</td>\n",
       "      <td>NaN</td>\n",
       "      <td>70600</td>\n",
       "      <td>3300000</td>\n",
       "      <td>2011</td>\n",
       "    </tr>\n",
       "    <tr>\n",
       "      <td>933</td>\n",
       "      <td>Keith Lemon: The Film</td>\n",
       "      <td>NaN</td>\n",
       "      <td>nan</td>\n",
       "      <td>4000000</td>\n",
       "      <td>2012</td>\n",
       "    </tr>\n",
       "    <tr>\n",
       "      <td>1862</td>\n",
       "      <td>Plot for Peace</td>\n",
       "      <td>NaN</td>\n",
       "      <td>7100</td>\n",
       "      <td>NaN</td>\n",
       "      <td>2014</td>\n",
       "    </tr>\n",
       "    <tr>\n",
       "      <td>2825</td>\n",
       "      <td>Secret Superstar</td>\n",
       "      <td>NaN</td>\n",
       "      <td>nan</td>\n",
       "      <td>122000000</td>\n",
       "      <td>2017</td>\n",
       "    </tr>\n",
       "  </tbody>\n",
       "</table>\n",
       "<p>3387 rows × 5 columns</p>\n",
       "</div>"
      ],
      "text/plain": [
       "                                           title studio  domestic_gross  \\\n",
       "155   Sea Rex 3D: Journey to a Prehistoric World     3D         6100000   \n",
       "1457                               Red Obsession    A23           13200   \n",
       "670                  Revenge of the Electric Car    A23          151000   \n",
       "1693                               Obvious Child    A24         3100000   \n",
       "1717                                        Tusk    A24         1800000   \n",
       "...                                          ...    ...             ...   \n",
       "210                Outside the Law (Hors-la-loi)    NaN           96900   \n",
       "555                      Fireflies in the Garden    NaN           70600   \n",
       "933                        Keith Lemon: The Film    NaN             nan   \n",
       "1862                              Plot for Peace    NaN            7100   \n",
       "2825                            Secret Superstar    NaN             nan   \n",
       "\n",
       "     foreign_gross  year  \n",
       "155        9900000  2010  \n",
       "1457           NaN  2013  \n",
       "670            NaN  2011  \n",
       "1693           NaN  2014  \n",
       "1717           NaN  2014  \n",
       "...            ...   ...  \n",
       "210        3300000  2010  \n",
       "555        3300000  2011  \n",
       "933        4000000  2012  \n",
       "1862           NaN  2014  \n",
       "2825     122000000  2017  \n",
       "\n",
       "[3387 rows x 5 columns]"
      ]
     },
     "execution_count": 3,
     "metadata": {},
     "output_type": "execute_result"
    }
   ],
   "source": [
    "df_bom.sort_values('studio', ascending=True)"
   ]
  },
  {
   "cell_type": "code",
   "execution_count": null,
   "metadata": {},
   "outputs": [],
   "source": [
    "df_bom.loc['year'] == 2018\n",
    "\n",
    "df_studio_gross = df_bom.copy(deep=\"True\")\n",
    "\n",
    "df_studio_gross.drop(['title', 'year'], axis=1, inplace=True)\n",
    "\n",
    "\n",
    "df_studio_gross.info()"
   ]
  },
  {
   "cell_type": "markdown",
   "metadata": {},
   "source": [
    "### drop nulls and convert domestic_gross to integer"
   ]
  },
  {
   "cell_type": "code",
   "execution_count": null,
   "metadata": {},
   "outputs": [],
   "source": [
    "df_studio_gross['foreign_gross'].isnull().sum()\n",
    "df_studio_gross['foreign_gross'].fillna(value=0, inplace=True)\n",
    "df_studio_gross['foreign_gross'].isnull().sum()\n",
    "df_studio_gross.head()\n",
    "df_studio_gross.foreign_gross\n",
    "df_studio_gross['domestic_gross'].isnull().sum()\n",
    "df_studio_gross['domestic_gross'].dropna(inplace=True)\n",
    "df_studio_gross['domestic_gross'].isnull().sum()\n",
    "df_studio_gross.foreign_gross = df_studio_gross.foreign_gross.astype(float)\n",
    "#df_studio_gross.foreign_gross.astype('int64')\n",
    "df_studio_gross.foreign_gross.value_counts()\n",
    "df_studio_gross['total_gross'] = df_studio_gross['domestic_gross'] + df_studio_gross['foreign_gross']\n",
    "df_studio_gross.info()\n",
    "df_studio_gross.head()"
   ]
  },
  {
   "cell_type": "markdown",
   "metadata": {},
   "source": [
    "### Save a copy of cleaned data for graphing in other notebooks"
   ]
  },
  {
   "cell_type": "code",
   "execution_count": null,
   "metadata": {},
   "outputs": [],
   "source": [
    "df_studio_gross.to_csv('data/studio_gross.csv', index=False)\n",
    "\n",
    "df_working = df_rt_budget.copy(deep=\"True\") # make a hard copy of the dataset to work with\n",
    "\n",
    "df_working.head()"
   ]
  },
  {
   "cell_type": "markdown",
   "metadata": {},
   "source": [
    "#### Clean the characters from the currency columns and convert to integer for calculations and graphing"
   ]
  },
  {
   "cell_type": "code",
   "execution_count": null,
   "metadata": {},
   "outputs": [],
   "source": [
    "\n",
    "df_working[df_working.columns[3:]] = df_working[df_working.columns[3:]].apply(lambda x: x.str.replace('$','')).apply(lambda x: x.str.replace(',','')).astype(np.int64)\n",
    "\n",
    "df_working.head()\n",
    "\n",
    "df_working.info()\n",
    "\n",
    "df_working['foreign_gross'] = df_working['worldwide_gross'] - df_working['domestic_gross']\n",
    "\n",
    "df_working.head()\n",
    "\n",
    "df_working['PnL'] = df_working['worldwide_gross'] - df_working['production_budget']\n",
    "\n",
    "df_working.head()\n",
    "\n",
    "if df_working['PnL'] > 0:\n",
    "    df_working['profit'] = 'True'\n",
    "    elif:\n",
    "        df_working['profit'] = 'False'        "
   ]
  },
  {
   "cell_type": "markdown",
   "metadata": {},
   "source": [
    "#### Save the dataset to a file that we will access in separate notebook"
   ]
  },
  {
   "cell_type": "code",
   "execution_count": null,
   "metadata": {},
   "outputs": [],
   "source": [
    "df_working.to_csv('data/tn.movie_budgets_working.csv')\n",
    "\n",
    "df_iname = pd.read_csv('data/imdb.name.basics.csv')\n",
    "df_iakas = pd.read_csv('data/imdb.title.akas.csv')\n",
    "df_ititlebas = pd.read_csv('data/imdb.title.basics.csv')\n",
    "df_ititlecrew = pd.read_csv('data/imdb.title.crew.csv')\n",
    "df_ititlepri = pd.read_csv('data/imdb.title.principals.csv')\n",
    "df_ititlerate = pd.read_csv('data/imdb.title.ratings.csv')\n",
    "\n",
    "df_ititlerate.head()\n",
    "\n",
    "df_ititlebas.head()\n",
    "\n",
    "df_working.head()"
   ]
  },
  {
   "cell_type": "markdown",
   "metadata": {},
   "source": [
    "#### Merge basics with ratings on column name tconst"
   ]
  },
  {
   "cell_type": "code",
   "execution_count": null,
   "metadata": {},
   "outputs": [],
   "source": [
    "df_merged = pd.merge(df_ititlerate, df_ititlebas, on='tconst')"
   ]
  },
  {
   "cell_type": "code",
   "execution_count": null,
   "metadata": {},
   "outputs": [],
   "source": [
    "df_iname.head()"
   ]
  },
  {
   "cell_type": "code",
   "execution_count": null,
   "metadata": {},
   "outputs": [],
   "source": [
    "df_ititlepri.head()\n",
    "\n",
    "df_imovtxt\n",
    "df_ireviewtxt\n",
    "\n",
    "df_imovtxt.columns\n",
    "\n",
    "df_ireviewtxt.columns\n",
    "\n",
    "df_rtmov.head()\n",
    "\n",
    "df_rtmov.describe()"
   ]
  }
 ],
 "metadata": {
  "kernelspec": {
   "display_name": "Python 3",
   "language": "python",
   "name": "python3"
  },
  "language_info": {
   "codemirror_mode": {
    "name": "ipython",
    "version": 3
   },
   "file_extension": ".py",
   "mimetype": "text/x-python",
   "name": "python",
   "nbconvert_exporter": "python",
   "pygments_lexer": "ipython3",
   "version": "3.7.0"
  }
 },
 "nbformat": 4,
 "nbformat_minor": 4
}
