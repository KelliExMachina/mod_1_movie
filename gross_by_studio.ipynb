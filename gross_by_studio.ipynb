{
 "cells": [
  {
   "cell_type": "code",
   "execution_count": 28,
   "metadata": {},
   "outputs": [],
   "source": [
    "import pandas as pd\n",
    "import numpy as np\n",
    "import matplotlib.pyplot as plt\n",
    "import seaborn as sns\n",
    "\n",
    "# Set plot space as inline for inline plots display\n",
    "%matplotlib inline\n",
    "\n",
    "pd.set_option('display.max_columns', 50)\n",
    "pd.set_option('display.max_rows', 100)\n",
    "#pd.set_option('display.float_format', lambda x: '%.0f' % x) \n",
    "pd.options.display.float_format = '{:,.0f}'.format"
   ]
  },
  {
   "cell_type": "code",
   "execution_count": 6,
   "metadata": {},
   "outputs": [],
   "source": [
    "df = pd.read_csv('data/studio_gross.csv', float_precision=1)"
   ]
  },
  {
   "cell_type": "code",
   "execution_count": 29,
   "metadata": {},
   "outputs": [
    {
     "data": {
      "text/html": [
       "<div>\n",
       "<style scoped>\n",
       "    .dataframe tbody tr th:only-of-type {\n",
       "        vertical-align: middle;\n",
       "    }\n",
       "\n",
       "    .dataframe tbody tr th {\n",
       "        vertical-align: top;\n",
       "    }\n",
       "\n",
       "    .dataframe thead th {\n",
       "        text-align: right;\n",
       "    }\n",
       "</style>\n",
       "<table border=\"1\" class=\"dataframe\">\n",
       "  <thead>\n",
       "    <tr style=\"text-align: right;\">\n",
       "      <th></th>\n",
       "      <th>studio</th>\n",
       "      <th>domestic_gross</th>\n",
       "      <th>foreign_gross</th>\n",
       "      <th>total_gross</th>\n",
       "    </tr>\n",
       "  </thead>\n",
       "  <tbody>\n",
       "    <tr>\n",
       "      <th>0</th>\n",
       "      <td>BV</td>\n",
       "      <td>415,000,000</td>\n",
       "      <td>652,000,000</td>\n",
       "      <td>1,067,000,000</td>\n",
       "    </tr>\n",
       "    <tr>\n",
       "      <th>1</th>\n",
       "      <td>BV</td>\n",
       "      <td>334,200,000</td>\n",
       "      <td>691,300,000</td>\n",
       "      <td>1,025,500,000</td>\n",
       "    </tr>\n",
       "    <tr>\n",
       "      <th>2</th>\n",
       "      <td>WB</td>\n",
       "      <td>296,000,000</td>\n",
       "      <td>664,300,000</td>\n",
       "      <td>960,300,000</td>\n",
       "    </tr>\n",
       "    <tr>\n",
       "      <th>3</th>\n",
       "      <td>WB</td>\n",
       "      <td>292,600,000</td>\n",
       "      <td>535,700,000</td>\n",
       "      <td>828,300,000</td>\n",
       "    </tr>\n",
       "    <tr>\n",
       "      <th>4</th>\n",
       "      <td>P/DW</td>\n",
       "      <td>238,700,000</td>\n",
       "      <td>513,900,000</td>\n",
       "      <td>752,600,000</td>\n",
       "    </tr>\n",
       "  </tbody>\n",
       "</table>\n",
       "</div>"
      ],
      "text/plain": [
       "  studio  domestic_gross  foreign_gross   total_gross\n",
       "0     BV     415,000,000    652,000,000 1,067,000,000\n",
       "1     BV     334,200,000    691,300,000 1,025,500,000\n",
       "2     WB     296,000,000    664,300,000   960,300,000\n",
       "3     WB     292,600,000    535,700,000   828,300,000\n",
       "4   P/DW     238,700,000    513,900,000   752,600,000"
      ]
     },
     "execution_count": 29,
     "metadata": {},
     "output_type": "execute_result"
    }
   ],
   "source": [
    "df.head()"
   ]
  },
  {
   "cell_type": "code",
   "execution_count": 16,
   "metadata": {},
   "outputs": [],
   "source": [
    "top10 = df.studio.value_counts().head(10)"
   ]
  },
  {
   "cell_type": "code",
   "execution_count": 17,
   "metadata": {},
   "outputs": [
    {
     "data": {
      "text/plain": [
       "IFC      166\n",
       "Uni.     147\n",
       "WB       140\n",
       "Fox      136\n",
       "Magn.    136\n",
       "SPC      123\n",
       "Sony     110\n",
       "BV       106\n",
       "LGF      103\n",
       "Par.     101\n",
       "Name: studio, dtype: int64"
      ]
     },
     "execution_count": 17,
     "metadata": {},
     "output_type": "execute_result"
    }
   ],
   "source": [
    "top10"
   ]
  },
  {
   "cell_type": "code",
   "execution_count": 18,
   "metadata": {},
   "outputs": [
    {
     "data": {
      "text/plain": [
       "pandas.core.series.Series"
      ]
     },
     "execution_count": 18,
     "metadata": {},
     "output_type": "execute_result"
    }
   ],
   "source": [
    "type(top10)"
   ]
  },
  {
   "cell_type": "markdown",
   "metadata": {},
   "source": [
    "### loop through and sum the totals for each studio"
   ]
  },
  {
   "cell_type": "code",
   "execution_count": 31,
   "metadata": {},
   "outputs": [
    {
     "data": {
      "text/html": [
       "<div>\n",
       "<style scoped>\n",
       "    .dataframe tbody tr th:only-of-type {\n",
       "        vertical-align: middle;\n",
       "    }\n",
       "\n",
       "    .dataframe tbody tr th {\n",
       "        vertical-align: top;\n",
       "    }\n",
       "\n",
       "    .dataframe thead th {\n",
       "        text-align: right;\n",
       "    }\n",
       "</style>\n",
       "<table border=\"1\" class=\"dataframe\">\n",
       "  <thead>\n",
       "    <tr style=\"text-align: right;\">\n",
       "      <th></th>\n",
       "      <th>domestic_gross</th>\n",
       "      <th>foreign_gross</th>\n",
       "      <th>total_gross</th>\n",
       "    </tr>\n",
       "    <tr>\n",
       "      <th>studio</th>\n",
       "      <th></th>\n",
       "      <th></th>\n",
       "      <th></th>\n",
       "    </tr>\n",
       "  </thead>\n",
       "  <tbody>\n",
       "    <tr>\n",
       "      <th>3D</th>\n",
       "      <td>6,100,000</td>\n",
       "      <td>9,900,000</td>\n",
       "      <td>16,000,000</td>\n",
       "    </tr>\n",
       "    <tr>\n",
       "      <th>A23</th>\n",
       "      <td>164,200</td>\n",
       "      <td>0</td>\n",
       "      <td>164,200</td>\n",
       "    </tr>\n",
       "    <tr>\n",
       "      <th>A24</th>\n",
       "      <td>324,194,200</td>\n",
       "      <td>238,462,200</td>\n",
       "      <td>562,656,400</td>\n",
       "    </tr>\n",
       "    <tr>\n",
       "      <th>ADC</th>\n",
       "      <td>248,200</td>\n",
       "      <td>0</td>\n",
       "      <td>248,200</td>\n",
       "    </tr>\n",
       "    <tr>\n",
       "      <th>AF</th>\n",
       "      <td>2,142,900</td>\n",
       "      <td>3,500,000</td>\n",
       "      <td>5,642,900</td>\n",
       "    </tr>\n",
       "    <tr>\n",
       "      <th>...</th>\n",
       "      <td>...</td>\n",
       "      <td>...</td>\n",
       "      <td>...</td>\n",
       "    </tr>\n",
       "    <tr>\n",
       "      <th>XL</th>\n",
       "      <td>458,000</td>\n",
       "      <td>0</td>\n",
       "      <td>458,000</td>\n",
       "    </tr>\n",
       "    <tr>\n",
       "      <th>YFG</th>\n",
       "      <td>1,100,000</td>\n",
       "      <td>0</td>\n",
       "      <td>1,100,000</td>\n",
       "    </tr>\n",
       "    <tr>\n",
       "      <th>Yash</th>\n",
       "      <td>31,631,400</td>\n",
       "      <td>272,825,100</td>\n",
       "      <td>304,392,100</td>\n",
       "    </tr>\n",
       "    <tr>\n",
       "      <th>Zee</th>\n",
       "      <td>1,100,000</td>\n",
       "      <td>571,000</td>\n",
       "      <td>1,671,000</td>\n",
       "    </tr>\n",
       "    <tr>\n",
       "      <th>Zeit.</th>\n",
       "      <td>5,663,500</td>\n",
       "      <td>20,300,000</td>\n",
       "      <td>25,963,500</td>\n",
       "    </tr>\n",
       "  </tbody>\n",
       "</table>\n",
       "<p>257 rows × 3 columns</p>\n",
       "</div>"
      ],
      "text/plain": [
       "        domestic_gross  foreign_gross  total_gross\n",
       "studio                                            \n",
       "3D           6,100,000      9,900,000   16,000,000\n",
       "A23            164,200              0      164,200\n",
       "A24        324,194,200    238,462,200  562,656,400\n",
       "ADC            248,200              0      248,200\n",
       "AF           2,142,900      3,500,000    5,642,900\n",
       "...                ...            ...          ...\n",
       "XL             458,000              0      458,000\n",
       "YFG          1,100,000              0    1,100,000\n",
       "Yash        31,631,400    272,825,100  304,392,100\n",
       "Zee          1,100,000        571,000    1,671,000\n",
       "Zeit.        5,663,500     20,300,000   25,963,500\n",
       "\n",
       "[257 rows x 3 columns]"
      ]
     },
     "execution_count": 31,
     "metadata": {},
     "output_type": "execute_result"
    }
   ],
   "source": [
    "df.groupby(['studio']).sum()"
   ]
  },
  {
   "cell_type": "code",
   "execution_count": 33,
   "metadata": {},
   "outputs": [],
   "source": [
    "df_agg = df.groupby(['studio']).agg('sum')"
   ]
  },
  {
   "cell_type": "code",
   "execution_count": 44,
   "metadata": {},
   "outputs": [],
   "source": [
    "df_agg = df_agg.sort_values('total_gross', ascending=False).head(10)"
   ]
  },
  {
   "cell_type": "code",
   "execution_count": 56,
   "metadata": {},
   "outputs": [
    {
     "data": {
      "text/plain": [
       "studio\n",
       "BV        25,793,854,700\n",
       "Fox       20,055,866,599\n",
       "WB        18,667,902,998\n",
       "Uni.      16,854,771,191\n",
       "Sony      13,945,354,998\n",
       "Par.      11,863,384,998\n",
       "WB (NL)    6,339,000,000\n",
       "LGF        4,482,619,300\n",
       "LG/S       3,353,724,000\n",
       "P/DW       3,393,600,000\n",
       "Name: foreign_gross, dtype: float64"
      ]
     },
     "execution_count": 56,
     "metadata": {},
     "output_type": "execute_result"
    }
   ],
   "source": [
    "df_agg['foreign_gross']\n"
   ]
  },
  {
   "cell_type": "code",
   "execution_count": 68,
   "metadata": {},
   "outputs": [
    {
     "data": {
      "image/png": "[encoded data removed]",
      "text/plain": [
       "<Figure size 432x288 with 1 Axes>"
      ]
     },
     "metadata": {
      "needs_background": "light"
     },
     "output_type": "display_data"
    }
   ],
   "source": [
    "# an example of a bar plot \n",
    "ax = plt.subplot() # create an axis object, which the plot object which we can customize\n",
    "studios = df_agg.index\n",
    "dom_gross = df_agg.domestic_gross\n",
    "for_gross = df_agg.foreign_gross\n",
    "tot_gross = df_agg.total_gross\n",
    "\n",
    "plt.bar(range(len(studios)), dom_gross, color='pink')\n",
    "plt.bar(range(len(studios)), for_gross, color='purple', bottom=dom_gross)\n",
    "plt.title('Gross Revenue Top 10 Studios')\n",
    "plt.xlabel('Studios')\n",
    "plt.ylabel('Revenue (Trillions)')\n",
    "ax.set_xticks(range(len(studios)))\n",
    "ax.set_xticklabels(studios)\n",
    "#ax.set_yticks(range(len(tot_gross)))\n",
    "#ax.set_yticklabels(studios)\n",
    "plt.legend(['Domestic', 'Foreign'])   #must be an array, not a string\n",
    "plt.show()     # add a ; to remove the crazy at the top or the grapy.\n",
    "# one dimensional for bar"
   ]
  },
  {
   "cell_type": "code",
   "execution_count": null,
   "metadata": {},
   "outputs": [],
   "source": []
  }
 ],
 "metadata": {
  "kernelspec": {
   "display_name": "Python 3",
   "language": "python",
   "name": "python3"
  },
  "language_info": {
   "codemirror_mode": {
    "name": "ipython",
    "version": 3
   },
   "file_extension": ".py",
   "mimetype": "text/x-python",
   "name": "python",
   "nbconvert_exporter": "python",
   "pygments_lexer": "ipython3",
   "version": "3.7.4"
  }
 },
 "nbformat": 4,
 "nbformat_minor": 4
}
